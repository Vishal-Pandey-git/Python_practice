{
 "cells": [
  {
   "cell_type": "markdown",
   "id": "d038b336",
   "metadata": {},
   "source": [
    "### 01. Print alternate elements of an array"
   ]
  },
  {
   "cell_type": "code",
   "execution_count": 10,
   "id": "c83f5c0a",
   "metadata": {},
   "outputs": [
    {
     "name": "stdout",
     "output_type": "stream",
     "text": [
      "3\n",
      "1 2 3\n",
      "1 3 \n"
     ]
    }
   ],
   "source": [
    "# You are given an array A of size N. You need to print elements of A in alternate order (starting from index 0).\n",
    "# Example 1:\n",
    "\n",
    "# Input:\n",
    "# N = 4\n",
    "# A[] = {1, 2, 3, 4}\n",
    "# Output:\n",
    "# 1 3\n",
    "# Example 2:\n",
    "\n",
    "# Input:\n",
    "# N = 5\n",
    "# A[] = {1, 2, 3, 4, 5}\n",
    "# Output:\n",
    "# 1 3 5\n",
    "\n",
    "# arr is the array\n",
    "# n is the number of elements in array\n",
    "def printAl(arr,n):\n",
    "    for x in range(n):\n",
    "        if x%2==0:\n",
    "            print(arr[x],end=\" \")\n",
    "        else:\n",
    "            continue\n",
    "\n",
    "#  Driver Code Starts\n",
    "if __name__==\"__main__\":\n",
    "        n=int(input())\n",
    "        arr=list(map(int,input().split()))\n",
    "        printAl(arr,n)\n",
    "        print()"
   ]
  },
  {
   "cell_type": "code",
   "execution_count": null,
   "id": "060ce558",
   "metadata": {},
   "outputs": [],
   "source": []
  }
 ],
 "metadata": {
  "kernelspec": {
   "display_name": "Python 3 (ipykernel)",
   "language": "python",
   "name": "python3"
  },
  "language_info": {
   "codemirror_mode": {
    "name": "ipython",
    "version": 3
   },
   "file_extension": ".py",
   "mimetype": "text/x-python",
   "name": "python",
   "nbconvert_exporter": "python",
   "pygments_lexer": "ipython3",
   "version": "3.9.12"
  }
 },
 "nbformat": 4,
 "nbformat_minor": 5
}
