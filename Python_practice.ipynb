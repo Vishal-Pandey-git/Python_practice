{
 "cells": [
  {
   "cell_type": "markdown",
   "id": "eb2089ad",
   "metadata": {},
   "source": [
    "### 01. Print alternate elements of an array"
   ]
  },
  {
   "cell_type": "code",
   "execution_count": 10,
   "id": "f9a6a2cd",
   "metadata": {},
   "outputs": [
    {
     "name": "stdout",
     "output_type": "stream",
     "text": [
      "3\n",
      "1 2 3\n",
      "1 3 \n"
     ]
    }
   ],
   "source": [
    "# You are given an array A of size N. You need to print elements of A in alternate order (starting from index 0).\n",
    "# Example 1:\n",
    "\n",
    "# Input:\n",
    "# N = 4\n",
    "# A[] = {1, 2, 3, 4}\n",
    "# Output:\n",
    "# 1 3\n",
    "# Example 2:\n",
    "\n",
    "# Input:\n",
    "# N = 5\n",
    "# A[] = {1, 2, 3, 4, 5}\n",
    "# Output:\n",
    "# 1 3 5\n",
    "\n",
    "# arr is the array\n",
    "# n is the number of elements in array\n",
    "def printAl(arr,n):\n",
    "    for x in range(n):\n",
    "        if x%2==0:\n",
    "            print(arr[x],end=\" \")\n",
    "        else:\n",
    "            continue\n",
    "\n",
    "#  Driver Code Starts\n",
    "if __name__==\"__main__\":\n",
    "        n=int(input())\n",
    "        arr=list(map(int,input().split()))\n",
    "        printAl(arr,n)\n",
    "        print()"
   ]
  },
  {
   "cell_type": "markdown",
   "id": "e981be92",
   "metadata": {},
   "source": [
    "### 02. Value equal to index value"
   ]
  },
  {
   "cell_type": "code",
   "execution_count": 13,
   "id": "ca4b33c6",
   "metadata": {
    "scrolled": true
   },
   "outputs": [
    {
     "name": "stdout",
     "output_type": "stream",
     "text": [
      "4\n",
      "2 0 3 4\n",
      "3 4 \n"
     ]
    }
   ],
   "source": [
    "# Given an array Arr of N positive integers. \n",
    "# Your task is to find the elements whose value is equal to that of its index value ( Consider 1-based indexing ).\n",
    "\n",
    "# Example 1:\n",
    "\n",
    "# Input: \n",
    "# N = 5\n",
    "# Arr[] = {15, 2, 45, 12, 7}\n",
    "# Output: 2\n",
    "# Explanation: Only Arr[2] = 2 exists here.\n",
    "# Example 2:\n",
    "\n",
    "# Input: \n",
    "# N = 1\n",
    "# Arr[] = {1}\n",
    "# Output: 1\n",
    "# Explanation: Here Arr[1] = 1 exists.\n",
    "\n",
    "class Solution:\n",
    "    def valueEqualToIndex(self,arr, n):\n",
    "        # code here\n",
    "        ls=[]\n",
    "        for i in range(n):\n",
    "            if arr[i]==i+1:\n",
    "                ls.append(arr[i])\n",
    "        return (ls)\n",
    "\n",
    "#  Driver Code Starts\n",
    "if __name__ == '__main__':\n",
    "        n = int(input())\n",
    "        arr = list(map(int, input().strip().split()))\n",
    "        ob = Solution()\n",
    "        ans = ob.valueEqualToIndex(arr, n)\n",
    "        if len(ans) == 0:\n",
    "            print(\"Not Found\")\n",
    "        else:\n",
    "            for x in ans:\n",
    "                print(x, end=\" \")\n",
    "            print()"
   ]
  }
 ],
 "metadata": {
  "kernelspec": {
   "display_name": "Python 3 (ipykernel)",
   "language": "python",
   "name": "python3"
  },
  "language_info": {
   "codemirror_mode": {
    "name": "ipython",
    "version": 3
   },
   "file_extension": ".py",
   "mimetype": "text/x-python",
   "name": "python",
   "nbconvert_exporter": "python",
   "pygments_lexer": "ipython3",
   "version": "3.9.12"
  }
 },
 "nbformat": 4,
 "nbformat_minor": 5
}
